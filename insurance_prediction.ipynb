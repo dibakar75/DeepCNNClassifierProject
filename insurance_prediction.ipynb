{
  "nbformat": 4,
  "nbformat_minor": 0,
  "metadata": {
    "colab": {
      "provenance": [],
      "collapsed_sections": [],
      "authorship_tag": "ABX9TyPisjfxVsUO8krQP+AB7wV5",
      "include_colab_link": true
    },
    "kernelspec": {
      "name": "python3",
      "display_name": "Python 3"
    },
    "language_info": {
      "name": "python"
    },
    "accelerator": "GPU",
    "gpuClass": "standard"
  },
  "cells": [
    {
      "cell_type": "markdown",
      "metadata": {
        "id": "view-in-github",
        "colab_type": "text"
      },
      "source": [
        "<a href=\"https://colab.research.google.com/github/dibakar75/DeepCNNClassifierProject/blob/main/insurance_prediction.ipynb\" target=\"_parent\"><img src=\"https://colab.research.google.com/assets/colab-badge.svg\" alt=\"Open In Colab\"/></a>"
      ]
    },
    {
      "cell_type": "code",
      "execution_count": 1,
      "metadata": {
        "colab": {
          "base_uri": "https://localhost:8080/"
        },
        "id": "qQNolyTQeA2F",
        "outputId": "70c6e8e8-eadb-437e-fb2a-03b401572058"
      },
      "outputs": [
        {
          "output_type": "stream",
          "name": "stdout",
          "text": [
            "Looking in indexes: https://pypi.org/simple, https://us-python.pkg.dev/colab-wheels/public/simple/\n",
            "Requirement already satisfied: keras-tuner in /usr/local/lib/python3.7/dist-packages (1.1.3)\n",
            "Requirement already satisfied: ipython in /usr/local/lib/python3.7/dist-packages (from keras-tuner) (7.9.0)\n",
            "Requirement already satisfied: numpy in /usr/local/lib/python3.7/dist-packages (from keras-tuner) (1.21.6)\n",
            "Requirement already satisfied: packaging in /usr/local/lib/python3.7/dist-packages (from keras-tuner) (21.3)\n",
            "Requirement already satisfied: kt-legacy in /usr/local/lib/python3.7/dist-packages (from keras-tuner) (1.0.4)\n",
            "Requirement already satisfied: tensorboard in /usr/local/lib/python3.7/dist-packages (from keras-tuner) (2.9.1)\n",
            "Requirement already satisfied: requests in /usr/local/lib/python3.7/dist-packages (from keras-tuner) (2.23.0)\n",
            "Requirement already satisfied: pickleshare in /usr/local/lib/python3.7/dist-packages (from ipython->keras-tuner) (0.7.5)\n",
            "Requirement already satisfied: pygments in /usr/local/lib/python3.7/dist-packages (from ipython->keras-tuner) (2.6.1)\n",
            "Requirement already satisfied: setuptools>=18.5 in /usr/local/lib/python3.7/dist-packages (from ipython->keras-tuner) (57.4.0)\n",
            "Requirement already satisfied: pexpect in /usr/local/lib/python3.7/dist-packages (from ipython->keras-tuner) (4.8.0)\n",
            "Requirement already satisfied: traitlets>=4.2 in /usr/local/lib/python3.7/dist-packages (from ipython->keras-tuner) (5.1.1)\n",
            "Requirement already satisfied: decorator in /usr/local/lib/python3.7/dist-packages (from ipython->keras-tuner) (4.4.2)\n",
            "Requirement already satisfied: jedi>=0.10 in /usr/local/lib/python3.7/dist-packages (from ipython->keras-tuner) (0.18.1)\n",
            "Requirement already satisfied: prompt-toolkit<2.1.0,>=2.0.0 in /usr/local/lib/python3.7/dist-packages (from ipython->keras-tuner) (2.0.10)\n",
            "Requirement already satisfied: backcall in /usr/local/lib/python3.7/dist-packages (from ipython->keras-tuner) (0.2.0)\n",
            "Requirement already satisfied: parso<0.9.0,>=0.8.0 in /usr/local/lib/python3.7/dist-packages (from jedi>=0.10->ipython->keras-tuner) (0.8.3)\n",
            "Requirement already satisfied: six>=1.9.0 in /usr/local/lib/python3.7/dist-packages (from prompt-toolkit<2.1.0,>=2.0.0->ipython->keras-tuner) (1.15.0)\n",
            "Requirement already satisfied: wcwidth in /usr/local/lib/python3.7/dist-packages (from prompt-toolkit<2.1.0,>=2.0.0->ipython->keras-tuner) (0.2.5)\n",
            "Requirement already satisfied: pyparsing!=3.0.5,>=2.0.2 in /usr/local/lib/python3.7/dist-packages (from packaging->keras-tuner) (3.0.9)\n",
            "Requirement already satisfied: ptyprocess>=0.5 in /usr/local/lib/python3.7/dist-packages (from pexpect->ipython->keras-tuner) (0.7.0)\n",
            "Requirement already satisfied: idna<3,>=2.5 in /usr/local/lib/python3.7/dist-packages (from requests->keras-tuner) (2.10)\n",
            "Requirement already satisfied: certifi>=2017.4.17 in /usr/local/lib/python3.7/dist-packages (from requests->keras-tuner) (2022.9.24)\n",
            "Requirement already satisfied: chardet<4,>=3.0.2 in /usr/local/lib/python3.7/dist-packages (from requests->keras-tuner) (3.0.4)\n",
            "Requirement already satisfied: urllib3!=1.25.0,!=1.25.1,<1.26,>=1.21.1 in /usr/local/lib/python3.7/dist-packages (from requests->keras-tuner) (1.24.3)\n",
            "Requirement already satisfied: google-auth<3,>=1.6.3 in /usr/local/lib/python3.7/dist-packages (from tensorboard->keras-tuner) (1.35.0)\n",
            "Requirement already satisfied: markdown>=2.6.8 in /usr/local/lib/python3.7/dist-packages (from tensorboard->keras-tuner) (3.4.1)\n",
            "Requirement already satisfied: grpcio>=1.24.3 in /usr/local/lib/python3.7/dist-packages (from tensorboard->keras-tuner) (1.50.0)\n",
            "Requirement already satisfied: tensorboard-data-server<0.7.0,>=0.6.0 in /usr/local/lib/python3.7/dist-packages (from tensorboard->keras-tuner) (0.6.1)\n",
            "Requirement already satisfied: absl-py>=0.4 in /usr/local/lib/python3.7/dist-packages (from tensorboard->keras-tuner) (1.3.0)\n",
            "Requirement already satisfied: wheel>=0.26 in /usr/local/lib/python3.7/dist-packages (from tensorboard->keras-tuner) (0.37.1)\n",
            "Requirement already satisfied: tensorboard-plugin-wit>=1.6.0 in /usr/local/lib/python3.7/dist-packages (from tensorboard->keras-tuner) (1.8.1)\n",
            "Requirement already satisfied: protobuf<3.20,>=3.9.2 in /usr/local/lib/python3.7/dist-packages (from tensorboard->keras-tuner) (3.17.3)\n",
            "Requirement already satisfied: werkzeug>=1.0.1 in /usr/local/lib/python3.7/dist-packages (from tensorboard->keras-tuner) (1.0.1)\n",
            "Requirement already satisfied: google-auth-oauthlib<0.5,>=0.4.1 in /usr/local/lib/python3.7/dist-packages (from tensorboard->keras-tuner) (0.4.6)\n",
            "Requirement already satisfied: cachetools<5.0,>=2.0.0 in /usr/local/lib/python3.7/dist-packages (from google-auth<3,>=1.6.3->tensorboard->keras-tuner) (4.2.4)\n",
            "Requirement already satisfied: rsa<5,>=3.1.4 in /usr/local/lib/python3.7/dist-packages (from google-auth<3,>=1.6.3->tensorboard->keras-tuner) (4.9)\n",
            "Requirement already satisfied: pyasn1-modules>=0.2.1 in /usr/local/lib/python3.7/dist-packages (from google-auth<3,>=1.6.3->tensorboard->keras-tuner) (0.2.8)\n",
            "Requirement already satisfied: requests-oauthlib>=0.7.0 in /usr/local/lib/python3.7/dist-packages (from google-auth-oauthlib<0.5,>=0.4.1->tensorboard->keras-tuner) (1.3.1)\n",
            "Requirement already satisfied: importlib-metadata>=4.4 in /usr/local/lib/python3.7/dist-packages (from markdown>=2.6.8->tensorboard->keras-tuner) (4.13.0)\n",
            "Requirement already satisfied: zipp>=0.5 in /usr/local/lib/python3.7/dist-packages (from importlib-metadata>=4.4->markdown>=2.6.8->tensorboard->keras-tuner) (3.10.0)\n",
            "Requirement already satisfied: typing-extensions>=3.6.4 in /usr/local/lib/python3.7/dist-packages (from importlib-metadata>=4.4->markdown>=2.6.8->tensorboard->keras-tuner) (4.1.1)\n",
            "Requirement already satisfied: pyasn1<0.5.0,>=0.4.6 in /usr/local/lib/python3.7/dist-packages (from pyasn1-modules>=0.2.1->google-auth<3,>=1.6.3->tensorboard->keras-tuner) (0.4.8)\n",
            "Requirement already satisfied: oauthlib>=3.0.0 in /usr/local/lib/python3.7/dist-packages (from requests-oauthlib>=0.7.0->google-auth-oauthlib<0.5,>=0.4.1->tensorboard->keras-tuner) (3.2.2)\n"
          ]
        }
      ],
      "source": [
        "!pip install keras-tuner"
      ]
    },
    {
      "cell_type": "code",
      "source": [
        "import tensorflow as tf\n",
        "import pandas as pd\n",
        "from tensorflow import keras\n",
        "import keras_tuner as kt\n",
        "from sklearn.preprocessing import StandardScaler\n",
        "from sklearn.model_selection import train_test_split\n",
        "from tensorflow.keras.losses import MeanSquaredLogarithmicError\n",
        "from tensorflow.keras.layers import Dense, Dropout"
      ],
      "metadata": {
        "id": "YaizoDjyeLlW"
      },
      "execution_count": 20,
      "outputs": []
    },
    {
      "cell_type": "code",
      "source": [],
      "metadata": {
        "id": "7ZGpkTtyeU69"
      },
      "execution_count": 2,
      "outputs": []
    },
    {
      "cell_type": "code",
      "source": [
        "df = pd.read_csv('/content/sample_data/insurance_pred.csv')"
      ],
      "metadata": {
        "id": "hrCvFmS0GHU8"
      },
      "execution_count": 3,
      "outputs": []
    },
    {
      "cell_type": "code",
      "source": [
        "df"
      ],
      "metadata": {
        "colab": {
          "base_uri": "https://localhost:8080/",
          "height": 424
        },
        "id": "RM5CDbnUJo6i",
        "outputId": "2df525f4-8f2a-44f1-bd19-bd3662eac2ab"
      },
      "execution_count": 4,
      "outputs": [
        {
          "output_type": "execute_result",
          "data": {
            "text/plain": [
              "      age     sex   bmi  children smoker     region  expenses\n",
              "0      19  female  27.9         0    yes  southwest  16884.92\n",
              "1      18    male  33.8         1     no  southeast   1725.55\n",
              "2      28    male  33.0         3     no  southeast   4449.46\n",
              "3      33    male  22.7         0     no  northwest  21984.47\n",
              "4      32    male  28.9         0     no  northwest   3866.86\n",
              "...   ...     ...   ...       ...    ...        ...       ...\n",
              "1333   50    male  31.0         3     no  northwest  10600.55\n",
              "1334   18  female  31.9         0     no  northeast   2205.98\n",
              "1335   18  female  36.9         0     no  southeast   1629.83\n",
              "1336   21  female  25.8         0     no  southwest   2007.95\n",
              "1337   61  female  29.1         0    yes  northwest  29141.36\n",
              "\n",
              "[1338 rows x 7 columns]"
            ],
            "text/html": [
              "\n",
              "  <div id=\"df-d60acbd6-bebc-43f2-9026-5a25bcad2655\">\n",
              "    <div class=\"colab-df-container\">\n",
              "      <div>\n",
              "<style scoped>\n",
              "    .dataframe tbody tr th:only-of-type {\n",
              "        vertical-align: middle;\n",
              "    }\n",
              "\n",
              "    .dataframe tbody tr th {\n",
              "        vertical-align: top;\n",
              "    }\n",
              "\n",
              "    .dataframe thead th {\n",
              "        text-align: right;\n",
              "    }\n",
              "</style>\n",
              "<table border=\"1\" class=\"dataframe\">\n",
              "  <thead>\n",
              "    <tr style=\"text-align: right;\">\n",
              "      <th></th>\n",
              "      <th>age</th>\n",
              "      <th>sex</th>\n",
              "      <th>bmi</th>\n",
              "      <th>children</th>\n",
              "      <th>smoker</th>\n",
              "      <th>region</th>\n",
              "      <th>expenses</th>\n",
              "    </tr>\n",
              "  </thead>\n",
              "  <tbody>\n",
              "    <tr>\n",
              "      <th>0</th>\n",
              "      <td>19</td>\n",
              "      <td>female</td>\n",
              "      <td>27.9</td>\n",
              "      <td>0</td>\n",
              "      <td>yes</td>\n",
              "      <td>southwest</td>\n",
              "      <td>16884.92</td>\n",
              "    </tr>\n",
              "    <tr>\n",
              "      <th>1</th>\n",
              "      <td>18</td>\n",
              "      <td>male</td>\n",
              "      <td>33.8</td>\n",
              "      <td>1</td>\n",
              "      <td>no</td>\n",
              "      <td>southeast</td>\n",
              "      <td>1725.55</td>\n",
              "    </tr>\n",
              "    <tr>\n",
              "      <th>2</th>\n",
              "      <td>28</td>\n",
              "      <td>male</td>\n",
              "      <td>33.0</td>\n",
              "      <td>3</td>\n",
              "      <td>no</td>\n",
              "      <td>southeast</td>\n",
              "      <td>4449.46</td>\n",
              "    </tr>\n",
              "    <tr>\n",
              "      <th>3</th>\n",
              "      <td>33</td>\n",
              "      <td>male</td>\n",
              "      <td>22.7</td>\n",
              "      <td>0</td>\n",
              "      <td>no</td>\n",
              "      <td>northwest</td>\n",
              "      <td>21984.47</td>\n",
              "    </tr>\n",
              "    <tr>\n",
              "      <th>4</th>\n",
              "      <td>32</td>\n",
              "      <td>male</td>\n",
              "      <td>28.9</td>\n",
              "      <td>0</td>\n",
              "      <td>no</td>\n",
              "      <td>northwest</td>\n",
              "      <td>3866.86</td>\n",
              "    </tr>\n",
              "    <tr>\n",
              "      <th>...</th>\n",
              "      <td>...</td>\n",
              "      <td>...</td>\n",
              "      <td>...</td>\n",
              "      <td>...</td>\n",
              "      <td>...</td>\n",
              "      <td>...</td>\n",
              "      <td>...</td>\n",
              "    </tr>\n",
              "    <tr>\n",
              "      <th>1333</th>\n",
              "      <td>50</td>\n",
              "      <td>male</td>\n",
              "      <td>31.0</td>\n",
              "      <td>3</td>\n",
              "      <td>no</td>\n",
              "      <td>northwest</td>\n",
              "      <td>10600.55</td>\n",
              "    </tr>\n",
              "    <tr>\n",
              "      <th>1334</th>\n",
              "      <td>18</td>\n",
              "      <td>female</td>\n",
              "      <td>31.9</td>\n",
              "      <td>0</td>\n",
              "      <td>no</td>\n",
              "      <td>northeast</td>\n",
              "      <td>2205.98</td>\n",
              "    </tr>\n",
              "    <tr>\n",
              "      <th>1335</th>\n",
              "      <td>18</td>\n",
              "      <td>female</td>\n",
              "      <td>36.9</td>\n",
              "      <td>0</td>\n",
              "      <td>no</td>\n",
              "      <td>southeast</td>\n",
              "      <td>1629.83</td>\n",
              "    </tr>\n",
              "    <tr>\n",
              "      <th>1336</th>\n",
              "      <td>21</td>\n",
              "      <td>female</td>\n",
              "      <td>25.8</td>\n",
              "      <td>0</td>\n",
              "      <td>no</td>\n",
              "      <td>southwest</td>\n",
              "      <td>2007.95</td>\n",
              "    </tr>\n",
              "    <tr>\n",
              "      <th>1337</th>\n",
              "      <td>61</td>\n",
              "      <td>female</td>\n",
              "      <td>29.1</td>\n",
              "      <td>0</td>\n",
              "      <td>yes</td>\n",
              "      <td>northwest</td>\n",
              "      <td>29141.36</td>\n",
              "    </tr>\n",
              "  </tbody>\n",
              "</table>\n",
              "<p>1338 rows × 7 columns</p>\n",
              "</div>\n",
              "      <button class=\"colab-df-convert\" onclick=\"convertToInteractive('df-d60acbd6-bebc-43f2-9026-5a25bcad2655')\"\n",
              "              title=\"Convert this dataframe to an interactive table.\"\n",
              "              style=\"display:none;\">\n",
              "        \n",
              "  <svg xmlns=\"http://www.w3.org/2000/svg\" height=\"24px\"viewBox=\"0 0 24 24\"\n",
              "       width=\"24px\">\n",
              "    <path d=\"M0 0h24v24H0V0z\" fill=\"none\"/>\n",
              "    <path d=\"M18.56 5.44l.94 2.06.94-2.06 2.06-.94-2.06-.94-.94-2.06-.94 2.06-2.06.94zm-11 1L8.5 8.5l.94-2.06 2.06-.94-2.06-.94L8.5 2.5l-.94 2.06-2.06.94zm10 10l.94 2.06.94-2.06 2.06-.94-2.06-.94-.94-2.06-.94 2.06-2.06.94z\"/><path d=\"M17.41 7.96l-1.37-1.37c-.4-.4-.92-.59-1.43-.59-.52 0-1.04.2-1.43.59L10.3 9.45l-7.72 7.72c-.78.78-.78 2.05 0 2.83L4 21.41c.39.39.9.59 1.41.59.51 0 1.02-.2 1.41-.59l7.78-7.78 2.81-2.81c.8-.78.8-2.07 0-2.86zM5.41 20L4 18.59l7.72-7.72 1.47 1.35L5.41 20z\"/>\n",
              "  </svg>\n",
              "      </button>\n",
              "      \n",
              "  <style>\n",
              "    .colab-df-container {\n",
              "      display:flex;\n",
              "      flex-wrap:wrap;\n",
              "      gap: 12px;\n",
              "    }\n",
              "\n",
              "    .colab-df-convert {\n",
              "      background-color: #E8F0FE;\n",
              "      border: none;\n",
              "      border-radius: 50%;\n",
              "      cursor: pointer;\n",
              "      display: none;\n",
              "      fill: #1967D2;\n",
              "      height: 32px;\n",
              "      padding: 0 0 0 0;\n",
              "      width: 32px;\n",
              "    }\n",
              "\n",
              "    .colab-df-convert:hover {\n",
              "      background-color: #E2EBFA;\n",
              "      box-shadow: 0px 1px 2px rgba(60, 64, 67, 0.3), 0px 1px 3px 1px rgba(60, 64, 67, 0.15);\n",
              "      fill: #174EA6;\n",
              "    }\n",
              "\n",
              "    [theme=dark] .colab-df-convert {\n",
              "      background-color: #3B4455;\n",
              "      fill: #D2E3FC;\n",
              "    }\n",
              "\n",
              "    [theme=dark] .colab-df-convert:hover {\n",
              "      background-color: #434B5C;\n",
              "      box-shadow: 0px 1px 3px 1px rgba(0, 0, 0, 0.15);\n",
              "      filter: drop-shadow(0px 1px 2px rgba(0, 0, 0, 0.3));\n",
              "      fill: #FFFFFF;\n",
              "    }\n",
              "  </style>\n",
              "\n",
              "      <script>\n",
              "        const buttonEl =\n",
              "          document.querySelector('#df-d60acbd6-bebc-43f2-9026-5a25bcad2655 button.colab-df-convert');\n",
              "        buttonEl.style.display =\n",
              "          google.colab.kernel.accessAllowed ? 'block' : 'none';\n",
              "\n",
              "        async function convertToInteractive(key) {\n",
              "          const element = document.querySelector('#df-d60acbd6-bebc-43f2-9026-5a25bcad2655');\n",
              "          const dataTable =\n",
              "            await google.colab.kernel.invokeFunction('convertToInteractive',\n",
              "                                                     [key], {});\n",
              "          if (!dataTable) return;\n",
              "\n",
              "          const docLinkHtml = 'Like what you see? Visit the ' +\n",
              "            '<a target=\"_blank\" href=https://colab.research.google.com/notebooks/data_table.ipynb>data table notebook</a>'\n",
              "            + ' to learn more about interactive tables.';\n",
              "          element.innerHTML = '';\n",
              "          dataTable['output_type'] = 'display_data';\n",
              "          await google.colab.output.renderOutput(dataTable, element);\n",
              "          const docLink = document.createElement('div');\n",
              "          docLink.innerHTML = docLinkHtml;\n",
              "          element.appendChild(docLink);\n",
              "        }\n",
              "      </script>\n",
              "    </div>\n",
              "  </div>\n",
              "  "
            ]
          },
          "metadata": {},
          "execution_count": 4
        }
      ]
    },
    {
      "cell_type": "code",
      "source": [
        "df.info()"
      ],
      "metadata": {
        "colab": {
          "base_uri": "https://localhost:8080/"
        },
        "id": "9o6cFTGwJVO6",
        "outputId": "39cb7c6b-0b4b-4ab8-ca16-44d4edc405ae"
      },
      "execution_count": 5,
      "outputs": [
        {
          "output_type": "stream",
          "name": "stdout",
          "text": [
            "<class 'pandas.core.frame.DataFrame'>\n",
            "RangeIndex: 1338 entries, 0 to 1337\n",
            "Data columns (total 7 columns):\n",
            " #   Column    Non-Null Count  Dtype  \n",
            "---  ------    --------------  -----  \n",
            " 0   age       1338 non-null   int64  \n",
            " 1   sex       1338 non-null   object \n",
            " 2   bmi       1338 non-null   float64\n",
            " 3   children  1338 non-null   int64  \n",
            " 4   smoker    1338 non-null   object \n",
            " 5   region    1338 non-null   object \n",
            " 6   expenses  1338 non-null   float64\n",
            "dtypes: float64(2), int64(2), object(3)\n",
            "memory usage: 73.3+ KB\n"
          ]
        }
      ]
    },
    {
      "cell_type": "code",
      "source": [
        "X = df.iloc[:, :6]\n",
        "y = df.iloc[:,6]"
      ],
      "metadata": {
        "id": "LEFLFYx1LnQR"
      },
      "execution_count": 6,
      "outputs": []
    },
    {
      "cell_type": "code",
      "source": [
        "#create dummy variables\n",
        "Sex = pd.get_dummies(df[\"sex\"], drop_first = 'True')\n",
        "Region = pd.get_dummies(df[\"region\"], drop_first = 'True')\n",
        "Smoker = pd.get_dummies(df[\"smoker\"], drop_first = 'True')"
      ],
      "metadata": {
        "id": "5Khk7y3_L9sv"
      },
      "execution_count": 7,
      "outputs": []
    },
    {
      "cell_type": "code",
      "source": [
        "df = pd.concat([df, Sex, Region, Smoker], axis=1)"
      ],
      "metadata": {
        "id": "C85cypLXO6xA"
      },
      "execution_count": 8,
      "outputs": []
    },
    {
      "cell_type": "code",
      "source": [
        "df"
      ],
      "metadata": {
        "colab": {
          "base_uri": "https://localhost:8080/",
          "height": 424
        },
        "id": "Pn9LmfJ9PET7",
        "outputId": "7e443397-f8b1-4200-a4dd-f2ad8136dcb1"
      },
      "execution_count": 9,
      "outputs": [
        {
          "output_type": "execute_result",
          "data": {
            "text/plain": [
              "      age     sex   bmi  children smoker     region  expenses  male  \\\n",
              "0      19  female  27.9         0    yes  southwest  16884.92     0   \n",
              "1      18    male  33.8         1     no  southeast   1725.55     1   \n",
              "2      28    male  33.0         3     no  southeast   4449.46     1   \n",
              "3      33    male  22.7         0     no  northwest  21984.47     1   \n",
              "4      32    male  28.9         0     no  northwest   3866.86     1   \n",
              "...   ...     ...   ...       ...    ...        ...       ...   ...   \n",
              "1333   50    male  31.0         3     no  northwest  10600.55     1   \n",
              "1334   18  female  31.9         0     no  northeast   2205.98     0   \n",
              "1335   18  female  36.9         0     no  southeast   1629.83     0   \n",
              "1336   21  female  25.8         0     no  southwest   2007.95     0   \n",
              "1337   61  female  29.1         0    yes  northwest  29141.36     0   \n",
              "\n",
              "      northwest  southeast  southwest  yes  \n",
              "0             0          0          1    1  \n",
              "1             0          1          0    0  \n",
              "2             0          1          0    0  \n",
              "3             1          0          0    0  \n",
              "4             1          0          0    0  \n",
              "...         ...        ...        ...  ...  \n",
              "1333          1          0          0    0  \n",
              "1334          0          0          0    0  \n",
              "1335          0          1          0    0  \n",
              "1336          0          0          1    0  \n",
              "1337          1          0          0    1  \n",
              "\n",
              "[1338 rows x 12 columns]"
            ],
            "text/html": [
              "\n",
              "  <div id=\"df-a37ea4d7-5e5a-4236-b920-b8bff65f1b53\">\n",
              "    <div class=\"colab-df-container\">\n",
              "      <div>\n",
              "<style scoped>\n",
              "    .dataframe tbody tr th:only-of-type {\n",
              "        vertical-align: middle;\n",
              "    }\n",
              "\n",
              "    .dataframe tbody tr th {\n",
              "        vertical-align: top;\n",
              "    }\n",
              "\n",
              "    .dataframe thead th {\n",
              "        text-align: right;\n",
              "    }\n",
              "</style>\n",
              "<table border=\"1\" class=\"dataframe\">\n",
              "  <thead>\n",
              "    <tr style=\"text-align: right;\">\n",
              "      <th></th>\n",
              "      <th>age</th>\n",
              "      <th>sex</th>\n",
              "      <th>bmi</th>\n",
              "      <th>children</th>\n",
              "      <th>smoker</th>\n",
              "      <th>region</th>\n",
              "      <th>expenses</th>\n",
              "      <th>male</th>\n",
              "      <th>northwest</th>\n",
              "      <th>southeast</th>\n",
              "      <th>southwest</th>\n",
              "      <th>yes</th>\n",
              "    </tr>\n",
              "  </thead>\n",
              "  <tbody>\n",
              "    <tr>\n",
              "      <th>0</th>\n",
              "      <td>19</td>\n",
              "      <td>female</td>\n",
              "      <td>27.9</td>\n",
              "      <td>0</td>\n",
              "      <td>yes</td>\n",
              "      <td>southwest</td>\n",
              "      <td>16884.92</td>\n",
              "      <td>0</td>\n",
              "      <td>0</td>\n",
              "      <td>0</td>\n",
              "      <td>1</td>\n",
              "      <td>1</td>\n",
              "    </tr>\n",
              "    <tr>\n",
              "      <th>1</th>\n",
              "      <td>18</td>\n",
              "      <td>male</td>\n",
              "      <td>33.8</td>\n",
              "      <td>1</td>\n",
              "      <td>no</td>\n",
              "      <td>southeast</td>\n",
              "      <td>1725.55</td>\n",
              "      <td>1</td>\n",
              "      <td>0</td>\n",
              "      <td>1</td>\n",
              "      <td>0</td>\n",
              "      <td>0</td>\n",
              "    </tr>\n",
              "    <tr>\n",
              "      <th>2</th>\n",
              "      <td>28</td>\n",
              "      <td>male</td>\n",
              "      <td>33.0</td>\n",
              "      <td>3</td>\n",
              "      <td>no</td>\n",
              "      <td>southeast</td>\n",
              "      <td>4449.46</td>\n",
              "      <td>1</td>\n",
              "      <td>0</td>\n",
              "      <td>1</td>\n",
              "      <td>0</td>\n",
              "      <td>0</td>\n",
              "    </tr>\n",
              "    <tr>\n",
              "      <th>3</th>\n",
              "      <td>33</td>\n",
              "      <td>male</td>\n",
              "      <td>22.7</td>\n",
              "      <td>0</td>\n",
              "      <td>no</td>\n",
              "      <td>northwest</td>\n",
              "      <td>21984.47</td>\n",
              "      <td>1</td>\n",
              "      <td>1</td>\n",
              "      <td>0</td>\n",
              "      <td>0</td>\n",
              "      <td>0</td>\n",
              "    </tr>\n",
              "    <tr>\n",
              "      <th>4</th>\n",
              "      <td>32</td>\n",
              "      <td>male</td>\n",
              "      <td>28.9</td>\n",
              "      <td>0</td>\n",
              "      <td>no</td>\n",
              "      <td>northwest</td>\n",
              "      <td>3866.86</td>\n",
              "      <td>1</td>\n",
              "      <td>1</td>\n",
              "      <td>0</td>\n",
              "      <td>0</td>\n",
              "      <td>0</td>\n",
              "    </tr>\n",
              "    <tr>\n",
              "      <th>...</th>\n",
              "      <td>...</td>\n",
              "      <td>...</td>\n",
              "      <td>...</td>\n",
              "      <td>...</td>\n",
              "      <td>...</td>\n",
              "      <td>...</td>\n",
              "      <td>...</td>\n",
              "      <td>...</td>\n",
              "      <td>...</td>\n",
              "      <td>...</td>\n",
              "      <td>...</td>\n",
              "      <td>...</td>\n",
              "    </tr>\n",
              "    <tr>\n",
              "      <th>1333</th>\n",
              "      <td>50</td>\n",
              "      <td>male</td>\n",
              "      <td>31.0</td>\n",
              "      <td>3</td>\n",
              "      <td>no</td>\n",
              "      <td>northwest</td>\n",
              "      <td>10600.55</td>\n",
              "      <td>1</td>\n",
              "      <td>1</td>\n",
              "      <td>0</td>\n",
              "      <td>0</td>\n",
              "      <td>0</td>\n",
              "    </tr>\n",
              "    <tr>\n",
              "      <th>1334</th>\n",
              "      <td>18</td>\n",
              "      <td>female</td>\n",
              "      <td>31.9</td>\n",
              "      <td>0</td>\n",
              "      <td>no</td>\n",
              "      <td>northeast</td>\n",
              "      <td>2205.98</td>\n",
              "      <td>0</td>\n",
              "      <td>0</td>\n",
              "      <td>0</td>\n",
              "      <td>0</td>\n",
              "      <td>0</td>\n",
              "    </tr>\n",
              "    <tr>\n",
              "      <th>1335</th>\n",
              "      <td>18</td>\n",
              "      <td>female</td>\n",
              "      <td>36.9</td>\n",
              "      <td>0</td>\n",
              "      <td>no</td>\n",
              "      <td>southeast</td>\n",
              "      <td>1629.83</td>\n",
              "      <td>0</td>\n",
              "      <td>0</td>\n",
              "      <td>1</td>\n",
              "      <td>0</td>\n",
              "      <td>0</td>\n",
              "    </tr>\n",
              "    <tr>\n",
              "      <th>1336</th>\n",
              "      <td>21</td>\n",
              "      <td>female</td>\n",
              "      <td>25.8</td>\n",
              "      <td>0</td>\n",
              "      <td>no</td>\n",
              "      <td>southwest</td>\n",
              "      <td>2007.95</td>\n",
              "      <td>0</td>\n",
              "      <td>0</td>\n",
              "      <td>0</td>\n",
              "      <td>1</td>\n",
              "      <td>0</td>\n",
              "    </tr>\n",
              "    <tr>\n",
              "      <th>1337</th>\n",
              "      <td>61</td>\n",
              "      <td>female</td>\n",
              "      <td>29.1</td>\n",
              "      <td>0</td>\n",
              "      <td>yes</td>\n",
              "      <td>northwest</td>\n",
              "      <td>29141.36</td>\n",
              "      <td>0</td>\n",
              "      <td>1</td>\n",
              "      <td>0</td>\n",
              "      <td>0</td>\n",
              "      <td>1</td>\n",
              "    </tr>\n",
              "  </tbody>\n",
              "</table>\n",
              "<p>1338 rows × 12 columns</p>\n",
              "</div>\n",
              "      <button class=\"colab-df-convert\" onclick=\"convertToInteractive('df-a37ea4d7-5e5a-4236-b920-b8bff65f1b53')\"\n",
              "              title=\"Convert this dataframe to an interactive table.\"\n",
              "              style=\"display:none;\">\n",
              "        \n",
              "  <svg xmlns=\"http://www.w3.org/2000/svg\" height=\"24px\"viewBox=\"0 0 24 24\"\n",
              "       width=\"24px\">\n",
              "    <path d=\"M0 0h24v24H0V0z\" fill=\"none\"/>\n",
              "    <path d=\"M18.56 5.44l.94 2.06.94-2.06 2.06-.94-2.06-.94-.94-2.06-.94 2.06-2.06.94zm-11 1L8.5 8.5l.94-2.06 2.06-.94-2.06-.94L8.5 2.5l-.94 2.06-2.06.94zm10 10l.94 2.06.94-2.06 2.06-.94-2.06-.94-.94-2.06-.94 2.06-2.06.94z\"/><path d=\"M17.41 7.96l-1.37-1.37c-.4-.4-.92-.59-1.43-.59-.52 0-1.04.2-1.43.59L10.3 9.45l-7.72 7.72c-.78.78-.78 2.05 0 2.83L4 21.41c.39.39.9.59 1.41.59.51 0 1.02-.2 1.41-.59l7.78-7.78 2.81-2.81c.8-.78.8-2.07 0-2.86zM5.41 20L4 18.59l7.72-7.72 1.47 1.35L5.41 20z\"/>\n",
              "  </svg>\n",
              "      </button>\n",
              "      \n",
              "  <style>\n",
              "    .colab-df-container {\n",
              "      display:flex;\n",
              "      flex-wrap:wrap;\n",
              "      gap: 12px;\n",
              "    }\n",
              "\n",
              "    .colab-df-convert {\n",
              "      background-color: #E8F0FE;\n",
              "      border: none;\n",
              "      border-radius: 50%;\n",
              "      cursor: pointer;\n",
              "      display: none;\n",
              "      fill: #1967D2;\n",
              "      height: 32px;\n",
              "      padding: 0 0 0 0;\n",
              "      width: 32px;\n",
              "    }\n",
              "\n",
              "    .colab-df-convert:hover {\n",
              "      background-color: #E2EBFA;\n",
              "      box-shadow: 0px 1px 2px rgba(60, 64, 67, 0.3), 0px 1px 3px 1px rgba(60, 64, 67, 0.15);\n",
              "      fill: #174EA6;\n",
              "    }\n",
              "\n",
              "    [theme=dark] .colab-df-convert {\n",
              "      background-color: #3B4455;\n",
              "      fill: #D2E3FC;\n",
              "    }\n",
              "\n",
              "    [theme=dark] .colab-df-convert:hover {\n",
              "      background-color: #434B5C;\n",
              "      box-shadow: 0px 1px 3px 1px rgba(0, 0, 0, 0.15);\n",
              "      filter: drop-shadow(0px 1px 2px rgba(0, 0, 0, 0.3));\n",
              "      fill: #FFFFFF;\n",
              "    }\n",
              "  </style>\n",
              "\n",
              "      <script>\n",
              "        const buttonEl =\n",
              "          document.querySelector('#df-a37ea4d7-5e5a-4236-b920-b8bff65f1b53 button.colab-df-convert');\n",
              "        buttonEl.style.display =\n",
              "          google.colab.kernel.accessAllowed ? 'block' : 'none';\n",
              "\n",
              "        async function convertToInteractive(key) {\n",
              "          const element = document.querySelector('#df-a37ea4d7-5e5a-4236-b920-b8bff65f1b53');\n",
              "          const dataTable =\n",
              "            await google.colab.kernel.invokeFunction('convertToInteractive',\n",
              "                                                     [key], {});\n",
              "          if (!dataTable) return;\n",
              "\n",
              "          const docLinkHtml = 'Like what you see? Visit the ' +\n",
              "            '<a target=\"_blank\" href=https://colab.research.google.com/notebooks/data_table.ipynb>data table notebook</a>'\n",
              "            + ' to learn more about interactive tables.';\n",
              "          element.innerHTML = '';\n",
              "          dataTable['output_type'] = 'display_data';\n",
              "          await google.colab.output.renderOutput(dataTable, element);\n",
              "          const docLink = document.createElement('div');\n",
              "          docLink.innerHTML = docLinkHtml;\n",
              "          element.appendChild(docLink);\n",
              "        }\n",
              "      </script>\n",
              "    </div>\n",
              "  </div>\n",
              "  "
            ]
          },
          "metadata": {},
          "execution_count": 9
        }
      ]
    },
    {
      "cell_type": "code",
      "source": [
        "df = df.drop(['sex', 'region','smoker'], axis=1)"
      ],
      "metadata": {
        "id": "KaymiYvFPKSf"
      },
      "execution_count": 10,
      "outputs": []
    },
    {
      "cell_type": "code",
      "source": [],
      "metadata": {
        "id": "aJQX0fu9Pktn"
      },
      "execution_count": 10,
      "outputs": []
    },
    {
      "cell_type": "code",
      "source": [
        "train_set, test_set = train_test_split(df, test_size = 0.2, random_state = 42)\n",
        "print(f\"Rows in train_set : {len(train_set)}\\nRows in test_set : {len(test_set)}\")"
      ],
      "metadata": {
        "colab": {
          "base_uri": "https://localhost:8080/"
        },
        "id": "tYULjwMJeYQY",
        "outputId": "d94a4222-d975-4bfd-f336-5bb3a75fdd22"
      },
      "execution_count": 11,
      "outputs": [
        {
          "output_type": "stream",
          "name": "stdout",
          "text": [
            "Rows in train_set : 1070\n",
            "Rows in test_set : 268\n"
          ]
        }
      ]
    },
    {
      "cell_type": "code",
      "source": [
        "#shape of train and test\n",
        "print(train_set.shape)\n",
        "print(test_set.shape)"
      ],
      "metadata": {
        "colab": {
          "base_uri": "https://localhost:8080/"
        },
        "id": "8VB_uuzSe1U8",
        "outputId": "586b7f45-039b-472c-c90e-0527ba65f4a8"
      },
      "execution_count": 12,
      "outputs": [
        {
          "output_type": "stream",
          "name": "stdout",
          "text": [
            "(1070, 9)\n",
            "(268, 9)\n"
          ]
        }
      ]
    },
    {
      "cell_type": "code",
      "source": [
        "#Data description\n",
        "train_set.describe()"
      ],
      "metadata": {
        "colab": {
          "base_uri": "https://localhost:8080/",
          "height": 300
        },
        "id": "EMismoyjfAjV",
        "outputId": "0d0bb035-1cab-4460-f9c6-86b95596d3ec"
      },
      "execution_count": 13,
      "outputs": [
        {
          "output_type": "execute_result",
          "data": {
            "text/plain": [
              "               age          bmi     children      expenses         male  \\\n",
              "count  1070.000000  1070.000000  1070.000000   1070.000000  1070.000000   \n",
              "mean     39.357009    30.562150     1.107477  13346.089869     0.512150   \n",
              "std      14.073960     6.043266     1.215983  12019.510759     0.500086   \n",
              "min      18.000000    16.000000     0.000000   1121.870000     0.000000   \n",
              "25%      27.000000    26.200000     0.000000   4897.665000     0.000000   \n",
              "50%      39.500000    30.200000     1.000000   9575.440000     1.000000   \n",
              "75%      51.000000    34.500000     2.000000  16746.655000     1.000000   \n",
              "max      64.000000    53.100000     5.000000  62592.870000     1.000000   \n",
              "\n",
              "         northwest    southeast    southwest          yes  \n",
              "count  1070.000000  1070.000000  1070.000000  1070.000000  \n",
              "mean      0.239252     0.264486     0.246729     0.205607  \n",
              "std       0.426827     0.441265     0.431309     0.404334  \n",
              "min       0.000000     0.000000     0.000000     0.000000  \n",
              "25%       0.000000     0.000000     0.000000     0.000000  \n",
              "50%       0.000000     0.000000     0.000000     0.000000  \n",
              "75%       0.000000     1.000000     0.000000     0.000000  \n",
              "max       1.000000     1.000000     1.000000     1.000000  "
            ],
            "text/html": [
              "\n",
              "  <div id=\"df-dc2b0a8e-5042-4afc-83da-79cac0edd2e2\">\n",
              "    <div class=\"colab-df-container\">\n",
              "      <div>\n",
              "<style scoped>\n",
              "    .dataframe tbody tr th:only-of-type {\n",
              "        vertical-align: middle;\n",
              "    }\n",
              "\n",
              "    .dataframe tbody tr th {\n",
              "        vertical-align: top;\n",
              "    }\n",
              "\n",
              "    .dataframe thead th {\n",
              "        text-align: right;\n",
              "    }\n",
              "</style>\n",
              "<table border=\"1\" class=\"dataframe\">\n",
              "  <thead>\n",
              "    <tr style=\"text-align: right;\">\n",
              "      <th></th>\n",
              "      <th>age</th>\n",
              "      <th>bmi</th>\n",
              "      <th>children</th>\n",
              "      <th>expenses</th>\n",
              "      <th>male</th>\n",
              "      <th>northwest</th>\n",
              "      <th>southeast</th>\n",
              "      <th>southwest</th>\n",
              "      <th>yes</th>\n",
              "    </tr>\n",
              "  </thead>\n",
              "  <tbody>\n",
              "    <tr>\n",
              "      <th>count</th>\n",
              "      <td>1070.000000</td>\n",
              "      <td>1070.000000</td>\n",
              "      <td>1070.000000</td>\n",
              "      <td>1070.000000</td>\n",
              "      <td>1070.000000</td>\n",
              "      <td>1070.000000</td>\n",
              "      <td>1070.000000</td>\n",
              "      <td>1070.000000</td>\n",
              "      <td>1070.000000</td>\n",
              "    </tr>\n",
              "    <tr>\n",
              "      <th>mean</th>\n",
              "      <td>39.357009</td>\n",
              "      <td>30.562150</td>\n",
              "      <td>1.107477</td>\n",
              "      <td>13346.089869</td>\n",
              "      <td>0.512150</td>\n",
              "      <td>0.239252</td>\n",
              "      <td>0.264486</td>\n",
              "      <td>0.246729</td>\n",
              "      <td>0.205607</td>\n",
              "    </tr>\n",
              "    <tr>\n",
              "      <th>std</th>\n",
              "      <td>14.073960</td>\n",
              "      <td>6.043266</td>\n",
              "      <td>1.215983</td>\n",
              "      <td>12019.510759</td>\n",
              "      <td>0.500086</td>\n",
              "      <td>0.426827</td>\n",
              "      <td>0.441265</td>\n",
              "      <td>0.431309</td>\n",
              "      <td>0.404334</td>\n",
              "    </tr>\n",
              "    <tr>\n",
              "      <th>min</th>\n",
              "      <td>18.000000</td>\n",
              "      <td>16.000000</td>\n",
              "      <td>0.000000</td>\n",
              "      <td>1121.870000</td>\n",
              "      <td>0.000000</td>\n",
              "      <td>0.000000</td>\n",
              "      <td>0.000000</td>\n",
              "      <td>0.000000</td>\n",
              "      <td>0.000000</td>\n",
              "    </tr>\n",
              "    <tr>\n",
              "      <th>25%</th>\n",
              "      <td>27.000000</td>\n",
              "      <td>26.200000</td>\n",
              "      <td>0.000000</td>\n",
              "      <td>4897.665000</td>\n",
              "      <td>0.000000</td>\n",
              "      <td>0.000000</td>\n",
              "      <td>0.000000</td>\n",
              "      <td>0.000000</td>\n",
              "      <td>0.000000</td>\n",
              "    </tr>\n",
              "    <tr>\n",
              "      <th>50%</th>\n",
              "      <td>39.500000</td>\n",
              "      <td>30.200000</td>\n",
              "      <td>1.000000</td>\n",
              "      <td>9575.440000</td>\n",
              "      <td>1.000000</td>\n",
              "      <td>0.000000</td>\n",
              "      <td>0.000000</td>\n",
              "      <td>0.000000</td>\n",
              "      <td>0.000000</td>\n",
              "    </tr>\n",
              "    <tr>\n",
              "      <th>75%</th>\n",
              "      <td>51.000000</td>\n",
              "      <td>34.500000</td>\n",
              "      <td>2.000000</td>\n",
              "      <td>16746.655000</td>\n",
              "      <td>1.000000</td>\n",
              "      <td>0.000000</td>\n",
              "      <td>1.000000</td>\n",
              "      <td>0.000000</td>\n",
              "      <td>0.000000</td>\n",
              "    </tr>\n",
              "    <tr>\n",
              "      <th>max</th>\n",
              "      <td>64.000000</td>\n",
              "      <td>53.100000</td>\n",
              "      <td>5.000000</td>\n",
              "      <td>62592.870000</td>\n",
              "      <td>1.000000</td>\n",
              "      <td>1.000000</td>\n",
              "      <td>1.000000</td>\n",
              "      <td>1.000000</td>\n",
              "      <td>1.000000</td>\n",
              "    </tr>\n",
              "  </tbody>\n",
              "</table>\n",
              "</div>\n",
              "      <button class=\"colab-df-convert\" onclick=\"convertToInteractive('df-dc2b0a8e-5042-4afc-83da-79cac0edd2e2')\"\n",
              "              title=\"Convert this dataframe to an interactive table.\"\n",
              "              style=\"display:none;\">\n",
              "        \n",
              "  <svg xmlns=\"http://www.w3.org/2000/svg\" height=\"24px\"viewBox=\"0 0 24 24\"\n",
              "       width=\"24px\">\n",
              "    <path d=\"M0 0h24v24H0V0z\" fill=\"none\"/>\n",
              "    <path d=\"M18.56 5.44l.94 2.06.94-2.06 2.06-.94-2.06-.94-.94-2.06-.94 2.06-2.06.94zm-11 1L8.5 8.5l.94-2.06 2.06-.94-2.06-.94L8.5 2.5l-.94 2.06-2.06.94zm10 10l.94 2.06.94-2.06 2.06-.94-2.06-.94-.94-2.06-.94 2.06-2.06.94z\"/><path d=\"M17.41 7.96l-1.37-1.37c-.4-.4-.92-.59-1.43-.59-.52 0-1.04.2-1.43.59L10.3 9.45l-7.72 7.72c-.78.78-.78 2.05 0 2.83L4 21.41c.39.39.9.59 1.41.59.51 0 1.02-.2 1.41-.59l7.78-7.78 2.81-2.81c.8-.78.8-2.07 0-2.86zM5.41 20L4 18.59l7.72-7.72 1.47 1.35L5.41 20z\"/>\n",
              "  </svg>\n",
              "      </button>\n",
              "      \n",
              "  <style>\n",
              "    .colab-df-container {\n",
              "      display:flex;\n",
              "      flex-wrap:wrap;\n",
              "      gap: 12px;\n",
              "    }\n",
              "\n",
              "    .colab-df-convert {\n",
              "      background-color: #E8F0FE;\n",
              "      border: none;\n",
              "      border-radius: 50%;\n",
              "      cursor: pointer;\n",
              "      display: none;\n",
              "      fill: #1967D2;\n",
              "      height: 32px;\n",
              "      padding: 0 0 0 0;\n",
              "      width: 32px;\n",
              "    }\n",
              "\n",
              "    .colab-df-convert:hover {\n",
              "      background-color: #E2EBFA;\n",
              "      box-shadow: 0px 1px 2px rgba(60, 64, 67, 0.3), 0px 1px 3px 1px rgba(60, 64, 67, 0.15);\n",
              "      fill: #174EA6;\n",
              "    }\n",
              "\n",
              "    [theme=dark] .colab-df-convert {\n",
              "      background-color: #3B4455;\n",
              "      fill: #D2E3FC;\n",
              "    }\n",
              "\n",
              "    [theme=dark] .colab-df-convert:hover {\n",
              "      background-color: #434B5C;\n",
              "      box-shadow: 0px 1px 3px 1px rgba(0, 0, 0, 0.15);\n",
              "      filter: drop-shadow(0px 1px 2px rgba(0, 0, 0, 0.3));\n",
              "      fill: #FFFFFF;\n",
              "    }\n",
              "  </style>\n",
              "\n",
              "      <script>\n",
              "        const buttonEl =\n",
              "          document.querySelector('#df-dc2b0a8e-5042-4afc-83da-79cac0edd2e2 button.colab-df-convert');\n",
              "        buttonEl.style.display =\n",
              "          google.colab.kernel.accessAllowed ? 'block' : 'none';\n",
              "\n",
              "        async function convertToInteractive(key) {\n",
              "          const element = document.querySelector('#df-dc2b0a8e-5042-4afc-83da-79cac0edd2e2');\n",
              "          const dataTable =\n",
              "            await google.colab.kernel.invokeFunction('convertToInteractive',\n",
              "                                                     [key], {});\n",
              "          if (!dataTable) return;\n",
              "\n",
              "          const docLinkHtml = 'Like what you see? Visit the ' +\n",
              "            '<a target=\"_blank\" href=https://colab.research.google.com/notebooks/data_table.ipynb>data table notebook</a>'\n",
              "            + ' to learn more about interactive tables.';\n",
              "          element.innerHTML = '';\n",
              "          dataTable['output_type'] = 'display_data';\n",
              "          await google.colab.output.renderOutput(dataTable, element);\n",
              "          const docLink = document.createElement('div');\n",
              "          docLink.innerHTML = docLinkHtml;\n",
              "          element.appendChild(docLink);\n",
              "        }\n",
              "      </script>\n",
              "    </div>\n",
              "  </div>\n",
              "  "
            ]
          },
          "metadata": {},
          "execution_count": 13
        }
      ]
    },
    {
      "cell_type": "code",
      "source": [
        "ind_var = 'expenses'"
      ],
      "metadata": {
        "id": "GbFBzPurRD2Z"
      },
      "execution_count": 14,
      "outputs": []
    },
    {
      "cell_type": "code",
      "source": [
        "# split the data into dependent and independent\n",
        "x_train, y_train = train_set.drop(ind_var, axis=1), train_set[ind_var]\n",
        "x_test, y_test = test_set.drop(ind_var, axis=1), test_set[ind_var]"
      ],
      "metadata": {
        "id": "mu9WyysafE1C"
      },
      "execution_count": 15,
      "outputs": []
    },
    {
      "cell_type": "code",
      "source": [
        "# Feature Scaling\n",
        "sc = StandardScaler()\n",
        "x_train = sc.fit_transform(x_train)\n",
        "x_test = sc.transform(x_test)"
      ],
      "metadata": {
        "id": "8PiQlQ-xfqc6"
      },
      "execution_count": 16,
      "outputs": []
    },
    {
      "cell_type": "code",
      "source": [
        "## KERAS tuner"
      ],
      "metadata": {
        "id": "9HlNKP7Ffs3J"
      },
      "execution_count": 18,
      "outputs": []
    },
    {
      "cell_type": "code",
      "source": [
        "import pandas as pd"
      ],
      "metadata": {
        "id": "NauCzbgCgAjC"
      },
      "execution_count": null,
      "outputs": []
    },
    {
      "cell_type": "code",
      "source": [
        "msle = MeanSquaredLogarithmicError()\n",
        "\n",
        "\n",
        "def model_builder(hp):\n",
        "  model = tf.keras.Sequential()\n",
        "  \n",
        "  units1 = hp.Int('units1', min_value=25, max_value=512, step=32)\n",
        "  units2 = hp.Int('units2', min_value=25, max_value=512, step=32)\n",
        "  units3 = hp.Int('units3', min_value=25, max_value=512, step=32)\n",
        "  model.add(Dense(units=units1, activation='relu'))\n",
        "  model.add(tf.keras.layers.Dense(units=units2, activation='relu'))\n",
        "  model.add(tf.keras.layers.Dense(units=units3, activation='relu'))\n",
        "  model.add(Dense(1, kernel_initializer='normal', activation='linear'))\n",
        "\n",
        "  hp_learning_rate = hp.Choice('learning_rate', values=[1e-2, 1e-3, 1e-4])\n",
        "\n",
        "  model.compile(\n",
        "      optimizer=tf.keras.optimizers.Adam(learning_rate=hp_learning_rate),\n",
        "      loss=msle,\n",
        "      metrics=[msle]\n",
        "  )\n",
        "\n",
        "  return model"
      ],
      "metadata": {
        "id": "P_9YCwwtfvYw"
      },
      "execution_count": 22,
      "outputs": []
    },
    {
      "cell_type": "code",
      "source": [
        "# HyperBand algorithm from keras tuner\n",
        "tuner = kt.Hyperband(\n",
        "    model_builder,\n",
        "    objective='val_mean_squared_logarithmic_error',\n",
        "    max_epochs=10,\n",
        "    directory='keras_tuner_dir',\n",
        "    project_name='keras_tuner_demo'\n",
        ")"
      ],
      "metadata": {
        "id": "F68wvuVMf_HG"
      },
      "execution_count": 23,
      "outputs": []
    },
    {
      "cell_type": "code",
      "source": [
        "stop_early = tf.keras.callbacks.EarlyStopping(monitor='val_loss', patience=5)"
      ],
      "metadata": {
        "id": "Rcm_NSEgTGTN"
      },
      "execution_count": 25,
      "outputs": []
    },
    {
      "cell_type": "code",
      "source": [
        "tuner.search(x_train, y_train, epochs=10, validation_split=0.2, callbacks = [stop_early])"
      ],
      "metadata": {
        "colab": {
          "base_uri": "https://localhost:8080/"
        },
        "id": "oCmR37pPgE2K",
        "outputId": "ba10705e-b1fa-41cd-f071-9c57c9d5a73b"
      },
      "execution_count": 26,
      "outputs": [
        {
          "output_type": "stream",
          "name": "stdout",
          "text": [
            "Trial 42 Complete [00h 00m 03s]\n",
            "val_mean_squared_logarithmic_error: 0.17927835881710052\n",
            "\n",
            "Best val_mean_squared_logarithmic_error So Far: 0.17503680288791656\n",
            "Total elapsed time: 00h 02m 22s\n"
          ]
        }
      ]
    },
    {
      "cell_type": "code",
      "source": [
        "##Finding the best hyper parameter\n",
        "for p in ['units1','units2','units3','learning_rate']:\n",
        "  print(p, tuner.get_best_hyperparameters()[0].get(p))"
      ],
      "metadata": {
        "colab": {
          "base_uri": "https://localhost:8080/"
        },
        "id": "Pj-B4XafSyA9",
        "outputId": "a672f86f-733d-4d44-979d-72231b2253f8"
      },
      "execution_count": 27,
      "outputs": [
        {
          "output_type": "stream",
          "name": "stdout",
          "text": [
            "units1 89\n",
            "units2 217\n",
            "units3 505\n",
            "learning_rate 0.01\n"
          ]
        }
      ]
    },
    {
      "cell_type": "code",
      "source": [
        "##Model Evaluation\n",
        "best_hps=tuner.get_best_hyperparameters(num_trials=1)[0]\n",
        "best_hps"
      ],
      "metadata": {
        "colab": {
          "base_uri": "https://localhost:8080/"
        },
        "id": "8gpyLxxPTcOj",
        "outputId": "ea8f3874-1bba-45a6-d8fc-c1411f731aab"
      },
      "execution_count": 28,
      "outputs": [
        {
          "output_type": "execute_result",
          "data": {
            "text/plain": [
              "<keras_tuner.engine.hyperparameters.HyperParameters at 0x7f45365e7cd0>"
            ]
          },
          "metadata": {},
          "execution_count": 28
        }
      ]
    },
    {
      "cell_type": "code",
      "source": [
        "model = tuner.hypermodel.build(best_hps)"
      ],
      "metadata": {
        "id": "VLr40frKTjaC"
      },
      "execution_count": 29,
      "outputs": []
    },
    {
      "cell_type": "code",
      "source": [
        "history = model.fit(x_train, y_train, epochs=50, validation_split=0.2)"
      ],
      "metadata": {
        "colab": {
          "base_uri": "https://localhost:8080/"
        },
        "id": "AVgGotoxTnRm",
        "outputId": "f023ebb5-2df0-419c-e2ce-2b5eb955ee68"
      },
      "execution_count": 30,
      "outputs": [
        {
          "output_type": "stream",
          "name": "stdout",
          "text": [
            "Epoch 1/50\n",
            "27/27 [==============================] - 1s 26ms/step - loss: 13.9988 - mean_squared_logarithmic_error: 13.8765 - val_loss: 0.7388 - val_mean_squared_logarithmic_error: 0.7385\n",
            "Epoch 2/50\n",
            "27/27 [==============================] - 0s 6ms/step - loss: 0.5672 - mean_squared_logarithmic_error: 0.5663 - val_loss: 0.5529 - val_mean_squared_logarithmic_error: 0.5531\n",
            "Epoch 3/50\n",
            "27/27 [==============================] - 0s 4ms/step - loss: 0.3769 - mean_squared_logarithmic_error: 0.3756 - val_loss: 0.2993 - val_mean_squared_logarithmic_error: 0.3030\n",
            "Epoch 4/50\n",
            "27/27 [==============================] - 0s 4ms/step - loss: 0.2516 - mean_squared_logarithmic_error: 0.2520 - val_loss: 0.2234 - val_mean_squared_logarithmic_error: 0.2289\n",
            "Epoch 5/50\n",
            "27/27 [==============================] - 0s 4ms/step - loss: 0.2047 - mean_squared_logarithmic_error: 0.2037 - val_loss: 0.1977 - val_mean_squared_logarithmic_error: 0.2027\n",
            "Epoch 6/50\n",
            "27/27 [==============================] - 0s 5ms/step - loss: 0.1815 - mean_squared_logarithmic_error: 0.1803 - val_loss: 0.1879 - val_mean_squared_logarithmic_error: 0.1933\n",
            "Epoch 7/50\n",
            "27/27 [==============================] - 0s 4ms/step - loss: 0.1704 - mean_squared_logarithmic_error: 0.1697 - val_loss: 0.1839 - val_mean_squared_logarithmic_error: 0.1887\n",
            "Epoch 8/50\n",
            "27/27 [==============================] - 0s 4ms/step - loss: 0.1646 - mean_squared_logarithmic_error: 0.1643 - val_loss: 0.1845 - val_mean_squared_logarithmic_error: 0.1887\n",
            "Epoch 9/50\n",
            "27/27 [==============================] - 0s 4ms/step - loss: 0.1606 - mean_squared_logarithmic_error: 0.1598 - val_loss: 0.1800 - val_mean_squared_logarithmic_error: 0.1847\n",
            "Epoch 10/50\n",
            "27/27 [==============================] - 0s 4ms/step - loss: 0.1580 - mean_squared_logarithmic_error: 0.1605 - val_loss: 0.1784 - val_mean_squared_logarithmic_error: 0.1829\n",
            "Epoch 11/50\n",
            "27/27 [==============================] - 0s 4ms/step - loss: 0.1570 - mean_squared_logarithmic_error: 0.1567 - val_loss: 0.1862 - val_mean_squared_logarithmic_error: 0.1904\n",
            "Epoch 12/50\n",
            "27/27 [==============================] - 0s 4ms/step - loss: 0.1559 - mean_squared_logarithmic_error: 0.1561 - val_loss: 0.1791 - val_mean_squared_logarithmic_error: 0.1836\n",
            "Epoch 13/50\n",
            "27/27 [==============================] - 0s 4ms/step - loss: 0.1518 - mean_squared_logarithmic_error: 0.1531 - val_loss: 0.1781 - val_mean_squared_logarithmic_error: 0.1823\n",
            "Epoch 14/50\n",
            "27/27 [==============================] - 0s 5ms/step - loss: 0.1531 - mean_squared_logarithmic_error: 0.1521 - val_loss: 0.1829 - val_mean_squared_logarithmic_error: 0.1867\n",
            "Epoch 15/50\n",
            "27/27 [==============================] - 0s 4ms/step - loss: 0.1510 - mean_squared_logarithmic_error: 0.1505 - val_loss: 0.1782 - val_mean_squared_logarithmic_error: 0.1825\n",
            "Epoch 16/50\n",
            "27/27 [==============================] - 0s 4ms/step - loss: 0.1492 - mean_squared_logarithmic_error: 0.1490 - val_loss: 0.1870 - val_mean_squared_logarithmic_error: 0.1907\n",
            "Epoch 17/50\n",
            "27/27 [==============================] - 0s 4ms/step - loss: 0.1493 - mean_squared_logarithmic_error: 0.1490 - val_loss: 0.1749 - val_mean_squared_logarithmic_error: 0.1785\n",
            "Epoch 18/50\n",
            "27/27 [==============================] - 0s 4ms/step - loss: 0.1484 - mean_squared_logarithmic_error: 0.1488 - val_loss: 0.1789 - val_mean_squared_logarithmic_error: 0.1822\n",
            "Epoch 19/50\n",
            "27/27 [==============================] - 0s 4ms/step - loss: 0.1462 - mean_squared_logarithmic_error: 0.1452 - val_loss: 0.1717 - val_mean_squared_logarithmic_error: 0.1753\n",
            "Epoch 20/50\n",
            "27/27 [==============================] - 0s 4ms/step - loss: 0.1483 - mean_squared_logarithmic_error: 0.1489 - val_loss: 0.1721 - val_mean_squared_logarithmic_error: 0.1760\n",
            "Epoch 21/50\n",
            "27/27 [==============================] - 0s 5ms/step - loss: 0.1476 - mean_squared_logarithmic_error: 0.1479 - val_loss: 0.1807 - val_mean_squared_logarithmic_error: 0.1841\n",
            "Epoch 22/50\n",
            "27/27 [==============================] - 0s 4ms/step - loss: 0.1456 - mean_squared_logarithmic_error: 0.1450 - val_loss: 0.1722 - val_mean_squared_logarithmic_error: 0.1759\n",
            "Epoch 23/50\n",
            "27/27 [==============================] - 0s 4ms/step - loss: 0.1454 - mean_squared_logarithmic_error: 0.1447 - val_loss: 0.1824 - val_mean_squared_logarithmic_error: 0.1856\n",
            "Epoch 24/50\n",
            "27/27 [==============================] - 0s 4ms/step - loss: 0.1446 - mean_squared_logarithmic_error: 0.1438 - val_loss: 0.1711 - val_mean_squared_logarithmic_error: 0.1743\n",
            "Epoch 25/50\n",
            "27/27 [==============================] - 0s 4ms/step - loss: 0.1457 - mean_squared_logarithmic_error: 0.1460 - val_loss: 0.1752 - val_mean_squared_logarithmic_error: 0.1781\n",
            "Epoch 26/50\n",
            "27/27 [==============================] - 0s 4ms/step - loss: 0.1438 - mean_squared_logarithmic_error: 0.1428 - val_loss: 0.1769 - val_mean_squared_logarithmic_error: 0.1806\n",
            "Epoch 27/50\n",
            "27/27 [==============================] - 0s 4ms/step - loss: 0.1445 - mean_squared_logarithmic_error: 0.1454 - val_loss: 0.1806 - val_mean_squared_logarithmic_error: 0.1837\n",
            "Epoch 28/50\n",
            "27/27 [==============================] - 0s 4ms/step - loss: 0.1436 - mean_squared_logarithmic_error: 0.1428 - val_loss: 0.1775 - val_mean_squared_logarithmic_error: 0.1806\n",
            "Epoch 29/50\n",
            "27/27 [==============================] - 0s 4ms/step - loss: 0.1431 - mean_squared_logarithmic_error: 0.1430 - val_loss: 0.1685 - val_mean_squared_logarithmic_error: 0.1715\n",
            "Epoch 30/50\n",
            "27/27 [==============================] - 0s 4ms/step - loss: 0.1412 - mean_squared_logarithmic_error: 0.1403 - val_loss: 0.1752 - val_mean_squared_logarithmic_error: 0.1782\n",
            "Epoch 31/50\n",
            "27/27 [==============================] - 0s 4ms/step - loss: 0.1435 - mean_squared_logarithmic_error: 0.1429 - val_loss: 0.1727 - val_mean_squared_logarithmic_error: 0.1761\n",
            "Epoch 32/50\n",
            "27/27 [==============================] - 0s 5ms/step - loss: 0.1411 - mean_squared_logarithmic_error: 0.1431 - val_loss: 0.1671 - val_mean_squared_logarithmic_error: 0.1699\n",
            "Epoch 33/50\n",
            "27/27 [==============================] - 0s 4ms/step - loss: 0.1412 - mean_squared_logarithmic_error: 0.1411 - val_loss: 0.1797 - val_mean_squared_logarithmic_error: 0.1827\n",
            "Epoch 34/50\n",
            "27/27 [==============================] - 0s 4ms/step - loss: 0.1429 - mean_squared_logarithmic_error: 0.1430 - val_loss: 0.1732 - val_mean_squared_logarithmic_error: 0.1759\n",
            "Epoch 35/50\n",
            "27/27 [==============================] - 0s 4ms/step - loss: 0.1415 - mean_squared_logarithmic_error: 0.1406 - val_loss: 0.1769 - val_mean_squared_logarithmic_error: 0.1802\n",
            "Epoch 36/50\n",
            "27/27 [==============================] - 0s 4ms/step - loss: 0.1420 - mean_squared_logarithmic_error: 0.1412 - val_loss: 0.1676 - val_mean_squared_logarithmic_error: 0.1702\n",
            "Epoch 37/50\n",
            "27/27 [==============================] - 0s 4ms/step - loss: 0.1420 - mean_squared_logarithmic_error: 0.1428 - val_loss: 0.1762 - val_mean_squared_logarithmic_error: 0.1793\n",
            "Epoch 38/50\n",
            "27/27 [==============================] - 0s 4ms/step - loss: 0.1396 - mean_squared_logarithmic_error: 0.1404 - val_loss: 0.1719 - val_mean_squared_logarithmic_error: 0.1747\n",
            "Epoch 39/50\n",
            "27/27 [==============================] - 0s 4ms/step - loss: 0.1403 - mean_squared_logarithmic_error: 0.1400 - val_loss: 0.1727 - val_mean_squared_logarithmic_error: 0.1753\n",
            "Epoch 40/50\n",
            "27/27 [==============================] - 0s 4ms/step - loss: 0.1414 - mean_squared_logarithmic_error: 0.1420 - val_loss: 0.1711 - val_mean_squared_logarithmic_error: 0.1743\n",
            "Epoch 41/50\n",
            "27/27 [==============================] - 0s 4ms/step - loss: 0.1406 - mean_squared_logarithmic_error: 0.1408 - val_loss: 0.1738 - val_mean_squared_logarithmic_error: 0.1767\n",
            "Epoch 42/50\n",
            "27/27 [==============================] - 0s 4ms/step - loss: 0.1394 - mean_squared_logarithmic_error: 0.1385 - val_loss: 0.1713 - val_mean_squared_logarithmic_error: 0.1739\n",
            "Epoch 43/50\n",
            "27/27 [==============================] - 0s 4ms/step - loss: 0.1377 - mean_squared_logarithmic_error: 0.1373 - val_loss: 0.1738 - val_mean_squared_logarithmic_error: 0.1770\n",
            "Epoch 44/50\n",
            "27/27 [==============================] - 0s 5ms/step - loss: 0.1388 - mean_squared_logarithmic_error: 0.1395 - val_loss: 0.1754 - val_mean_squared_logarithmic_error: 0.1783\n",
            "Epoch 45/50\n",
            "27/27 [==============================] - 0s 4ms/step - loss: 0.1412 - mean_squared_logarithmic_error: 0.1422 - val_loss: 0.1756 - val_mean_squared_logarithmic_error: 0.1790\n",
            "Epoch 46/50\n",
            "27/27 [==============================] - 0s 4ms/step - loss: 0.1399 - mean_squared_logarithmic_error: 0.1398 - val_loss: 0.1686 - val_mean_squared_logarithmic_error: 0.1715\n",
            "Epoch 47/50\n",
            "27/27 [==============================] - 0s 4ms/step - loss: 0.1374 - mean_squared_logarithmic_error: 0.1371 - val_loss: 0.1725 - val_mean_squared_logarithmic_error: 0.1756\n",
            "Epoch 48/50\n",
            "27/27 [==============================] - 0s 4ms/step - loss: 0.1387 - mean_squared_logarithmic_error: 0.1392 - val_loss: 0.1709 - val_mean_squared_logarithmic_error: 0.1735\n",
            "Epoch 49/50\n",
            "27/27 [==============================] - 0s 4ms/step - loss: 0.1400 - mean_squared_logarithmic_error: 0.1398 - val_loss: 0.1851 - val_mean_squared_logarithmic_error: 0.1881\n",
            "Epoch 50/50\n",
            "27/27 [==============================] - 0s 4ms/step - loss: 0.1388 - mean_squared_logarithmic_error: 0.1393 - val_loss: 0.1751 - val_mean_squared_logarithmic_error: 0.1779\n"
          ]
        }
      ]
    },
    {
      "cell_type": "code",
      "source": [
        "eval_result = model.evaluate(x_test, y_test)\n",
        "print(eval_result)"
      ],
      "metadata": {
        "colab": {
          "base_uri": "https://localhost:8080/"
        },
        "id": "dQf-5s19Tqav",
        "outputId": "2b565d47-ac18-4b3e-9840-9f813807ec08"
      },
      "execution_count": 31,
      "outputs": [
        {
          "output_type": "stream",
          "name": "stdout",
          "text": [
            "9/9 [==============================] - 0s 3ms/step - loss: 0.1505 - mean_squared_logarithmic_error: 0.1429\n",
            "[0.15048184990882874, 0.14285314083099365]\n"
          ]
        }
      ]
    },
    {
      "cell_type": "code",
      "source": [
        "model.summary()"
      ],
      "metadata": {
        "colab": {
          "base_uri": "https://localhost:8080/"
        },
        "id": "-3mr2Zh7T3Da",
        "outputId": "23537f75-280f-482f-cbb5-1f7ead5e6a2b"
      },
      "execution_count": 32,
      "outputs": [
        {
          "output_type": "stream",
          "name": "stdout",
          "text": [
            "Model: \"sequential_1\"\n",
            "_________________________________________________________________\n",
            " Layer (type)                Output Shape              Param #   \n",
            "=================================================================\n",
            " dense_4 (Dense)             (None, 89)                801       \n",
            "                                                                 \n",
            " dense_5 (Dense)             (None, 217)               19530     \n",
            "                                                                 \n",
            " dense_6 (Dense)             (None, 505)               110090    \n",
            "                                                                 \n",
            " dense_7 (Dense)             (None, 1)                 506       \n",
            "                                                                 \n",
            "=================================================================\n",
            "Total params: 130,927\n",
            "Trainable params: 130,927\n",
            "Non-trainable params: 0\n",
            "_________________________________________________________________\n"
          ]
        }
      ]
    },
    {
      "cell_type": "code",
      "source": [],
      "metadata": {
        "id": "DOWEkuxIT8Gg"
      },
      "execution_count": null,
      "outputs": []
    }
  ]
}